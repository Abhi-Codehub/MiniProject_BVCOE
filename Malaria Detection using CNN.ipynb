{
 "cells": [
  {
   "cell_type": "code",
   "execution_count": 1,
   "id": "ac23837e",
   "metadata": {},
   "outputs": [
    {
     "data": {
      "text/plain": [
       "'2.12.0'"
      ]
     },
     "execution_count": 1,
     "metadata": {},
     "output_type": "execute_result"
    }
   ],
   "source": [
    "import keras\n",
    "keras.__version__"
   ]
  },
  {
   "cell_type": "markdown",
   "id": "82aac283",
   "metadata": {},
   "source": [
    "# Malaria Detection using CNN"
   ]
  },
  {
   "cell_type": "code",
   "execution_count": 5,
   "id": "a39e6caa",
   "metadata": {},
   "outputs": [
    {
     "name": "stdout",
     "output_type": "stream",
     "text": [
      "Metal device set to: Apple M1\n",
      "Epoch 1/10\n"
     ]
    },
    {
     "name": "stderr",
     "output_type": "stream",
     "text": [
      "2023-04-18 22:38:48.157716: W tensorflow/tsl/platform/profile_utils/cpu_utils.cc:128] Failed to get CPU frequency: 0 Hz\n"
     ]
    },
    {
     "name": "stdout",
     "output_type": "stream",
     "text": [
      "689/689 [==============================] - 24s 34ms/step - loss: 0.2745 - accuracy: 0.8829\n",
      "Epoch 2/10\n",
      "689/689 [==============================] - 23s 34ms/step - loss: 0.1464 - accuracy: 0.9480\n",
      "Epoch 3/10\n",
      "689/689 [==============================] - 23s 34ms/step - loss: 0.1128 - accuracy: 0.9598\n",
      "Epoch 4/10\n",
      "689/689 [==============================] - 23s 34ms/step - loss: 0.0836 - accuracy: 0.9702\n",
      "Epoch 5/10\n",
      "689/689 [==============================] - 23s 33ms/step - loss: 0.0575 - accuracy: 0.9801\n",
      "Epoch 6/10\n",
      "689/689 [==============================] - 23s 34ms/step - loss: 0.0424 - accuracy: 0.9844\n",
      "Epoch 7/10\n",
      "689/689 [==============================] - 23s 34ms/step - loss: 0.0319 - accuracy: 0.9873\n",
      "Epoch 8/10\n",
      "689/689 [==============================] - 23s 34ms/step - loss: 0.0218 - accuracy: 0.9922\n",
      "Epoch 9/10\n",
      "689/689 [==============================] - 23s 34ms/step - loss: 0.0152 - accuracy: 0.9941\n",
      "Epoch 10/10\n",
      "689/689 [==============================] - 23s 34ms/step - loss: 0.0142 - accuracy: 0.9954\n",
      "173/173 [==============================] - 3s 16ms/step - loss: 0.4643 - accuracy: 0.9423\n",
      "Test accuracy: 0.942307710647583\n"
     ]
    }
   ],
   "source": [
    "#CNN\n",
    "import tensorflow as tf\n",
    "from tensorflow import keras\n",
    "from tensorflow.keras import layers\n",
    "\n",
    "# Load the dataset\n",
    "dataset = tfds.load('malaria', split='train[:80%]')\n",
    "\n",
    "# Define the desired shape\n",
    "desired_shape = (103, 103)\n",
    "\n",
    "# Resize the images in the dataset\n",
    "def preprocess_data(sample):\n",
    "    image = sample['image']\n",
    "    image = tf.image.resize(image, desired_shape)\n",
    "    image = tf.cast(image, tf.float32)\n",
    "    image = (image / 255.0) * 2.0 - 1.0\n",
    "    label = sample['label']\n",
    "    return image, label\n",
    "\n",
    "# Preprocess the data and batch it\n",
    "batch_size = 32\n",
    "train_data = dataset.map(preprocess_data).batch(batch_size)\n",
    "\n",
    "# Define the CNN model and compile it\n",
    "model = keras.Sequential([\n",
    "    layers.Conv2D(32, (3,3), activation='relu', input_shape=(103,103,3)),\n",
    "    layers.MaxPooling2D((2,2)),\n",
    "    layers.Conv2D(64, (3,3), activation='relu'),\n",
    "    layers.MaxPooling2D((2,2)),\n",
    "    layers.Flatten(),\n",
    "    layers.Dense(64, activation='relu'),\n",
    "    layers.Dense(1, activation='sigmoid')\n",
    "])\n",
    "model.compile(optimizer='adam', loss='binary_crossentropy', metrics=['accuracy'])\n",
    "\n",
    "# Train the model\n",
    "epochs = 10\n",
    "history = model.fit(train_data, epochs=epochs)\n",
    "\n",
    "# Evaluate the model\n",
    "test_data = tfds.load('malaria', split='train[80%:]').map(preprocess_data).batch(batch_size)\n",
    "test_loss, test_acc = model.evaluate(test_data)\n",
    "\n",
    "# Print the test accuracy\n",
    "print('Test accuracy:', test_acc)\n"
   ]
  },
  {
   "cell_type": "code",
   "execution_count": 3,
   "id": "75fa0559",
   "metadata": {},
   "outputs": [
    {
     "name": "stdout",
     "output_type": "stream",
     "text": [
      "Requirement already satisfied: tensorflow_datasets in ./miniconda3/envs/tensorflow/lib/python3.10/site-packages (4.9.2)\n",
      "Requirement already satisfied: etils[enp,epath]>=0.9.0 in ./miniconda3/envs/tensorflow/lib/python3.10/site-packages (from tensorflow_datasets) (1.2.0)\n",
      "Requirement already satisfied: promise in ./miniconda3/envs/tensorflow/lib/python3.10/site-packages (from tensorflow_datasets) (2.3)\n",
      "Requirement already satisfied: psutil in ./miniconda3/envs/tensorflow/lib/python3.10/site-packages (from tensorflow_datasets) (5.9.4)\n",
      "Requirement already satisfied: wrapt in ./miniconda3/envs/tensorflow/lib/python3.10/site-packages (from tensorflow_datasets) (1.14.1)\n",
      "Requirement already satisfied: requests>=2.19.0 in ./miniconda3/envs/tensorflow/lib/python3.10/site-packages (from tensorflow_datasets) (2.28.2)\n",
      "Requirement already satisfied: termcolor in ./miniconda3/envs/tensorflow/lib/python3.10/site-packages (from tensorflow_datasets) (2.2.0)\n",
      "Requirement already satisfied: array-record in ./miniconda3/envs/tensorflow/lib/python3.10/site-packages (from tensorflow_datasets) (0.2.0)\n",
      "Requirement already satisfied: dm-tree in ./miniconda3/envs/tensorflow/lib/python3.10/site-packages (from tensorflow_datasets) (0.1.8)\n",
      "Requirement already satisfied: tqdm in ./miniconda3/envs/tensorflow/lib/python3.10/site-packages (from tensorflow_datasets) (4.65.0)\n",
      "Requirement already satisfied: toml in ./miniconda3/envs/tensorflow/lib/python3.10/site-packages (from tensorflow_datasets) (0.10.2)\n",
      "Requirement already satisfied: click in ./miniconda3/envs/tensorflow/lib/python3.10/site-packages (from tensorflow_datasets) (8.1.3)\n",
      "Requirement already satisfied: numpy in ./miniconda3/envs/tensorflow/lib/python3.10/site-packages (from tensorflow_datasets) (1.23.5)\n",
      "Requirement already satisfied: tensorflow-metadata in ./miniconda3/envs/tensorflow/lib/python3.10/site-packages (from tensorflow_datasets) (1.13.1)\n",
      "Requirement already satisfied: absl-py in ./miniconda3/envs/tensorflow/lib/python3.10/site-packages (from tensorflow_datasets) (1.4.0)\n",
      "Requirement already satisfied: protobuf>=3.20 in ./miniconda3/envs/tensorflow/lib/python3.10/site-packages (from tensorflow_datasets) (4.22.3)\n",
      "Requirement already satisfied: importlib_resources in ./miniconda3/envs/tensorflow/lib/python3.10/site-packages (from etils[enp,epath]>=0.9.0->tensorflow_datasets) (5.12.0)\n",
      "Requirement already satisfied: zipp in ./miniconda3/envs/tensorflow/lib/python3.10/site-packages (from etils[enp,epath]>=0.9.0->tensorflow_datasets) (3.15.0)\n",
      "Requirement already satisfied: typing_extensions in ./miniconda3/envs/tensorflow/lib/python3.10/site-packages (from etils[enp,epath]>=0.9.0->tensorflow_datasets) (4.5.0)\n",
      "Requirement already satisfied: charset-normalizer<4,>=2 in ./miniconda3/envs/tensorflow/lib/python3.10/site-packages (from requests>=2.19.0->tensorflow_datasets) (3.1.0)\n",
      "Requirement already satisfied: urllib3<1.27,>=1.21.1 in ./miniconda3/envs/tensorflow/lib/python3.10/site-packages (from requests>=2.19.0->tensorflow_datasets) (1.26.15)\n",
      "Requirement already satisfied: idna<4,>=2.5 in ./miniconda3/envs/tensorflow/lib/python3.10/site-packages (from requests>=2.19.0->tensorflow_datasets) (3.4)\n",
      "Requirement already satisfied: certifi>=2017.4.17 in ./miniconda3/envs/tensorflow/lib/python3.10/site-packages (from requests>=2.19.0->tensorflow_datasets) (2022.12.7)\n",
      "Requirement already satisfied: six in ./miniconda3/envs/tensorflow/lib/python3.10/site-packages (from promise->tensorflow_datasets) (1.16.0)\n",
      "Requirement already satisfied: googleapis-common-protos<2,>=1.52.0 in ./miniconda3/envs/tensorflow/lib/python3.10/site-packages (from tensorflow-metadata->tensorflow_datasets) (1.59.0)\n",
      "Note: you may need to restart the kernel to use updated packages.\n"
     ]
    }
   ],
   "source": [
    "pip install tensorflow_datasets"
   ]
  },
  {
   "cell_type": "code",
   "execution_count": 4,
   "id": "75d189d4",
   "metadata": {},
   "outputs": [],
   "source": [
    "import tensorflow_datasets as tfds"
   ]
  },
  {
   "cell_type": "code",
   "execution_count": null,
   "id": "b074b364",
   "metadata": {},
   "outputs": [],
   "source": []
  }
 ],
 "metadata": {
  "kernelspec": {
   "display_name": "Python 3.10 (tensorflow)",
   "language": "python",
   "name": "tensorflow"
  },
  "language_info": {
   "codemirror_mode": {
    "name": "ipython",
    "version": 3
   },
   "file_extension": ".py",
   "mimetype": "text/x-python",
   "name": "python",
   "nbconvert_exporter": "python",
   "pygments_lexer": "ipython3",
   "version": "3.10.10"
  }
 },
 "nbformat": 4,
 "nbformat_minor": 5
}
